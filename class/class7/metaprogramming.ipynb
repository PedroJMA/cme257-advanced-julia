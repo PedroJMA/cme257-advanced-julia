{
 "cells": [
  {
   "cell_type": "markdown",
   "metadata": {},
   "source": [
    "# Class 7 - Metaprogramming\n",
    "\n",
    "Today we'll cover metaprogramming in Julia.  This should answer some questions about what's really going on when you use a macro such as `@simd` or a expression such as `:hello`.  \n",
    "\n",
    "# What is Metaprogramming?\n",
    "\n",
    "Briefly, [metaprogramming](https://en.wikipedia.org/wiki/Metaprogramming) refers to writing programs to write programs.  This is poweful because it allows you to write less code for repetitive tasks, and even write domain-specific languages.  [Template Metaprogramming](https://en.wikipedia.org/wiki/Template_metaprogramming) is one example of this.  e.g."
   ]
  },
  {
   "cell_type": "code",
   "execution_count": null,
   "metadata": {},
   "outputs": [],
   "source": [
    "function cme257fn(a::T, b::T) where T\n",
    "    a + T(2)*b\n",
    "end\n",
    ";"
   ]
  },
  {
   "cell_type": "code",
   "execution_count": null,
   "metadata": {},
   "outputs": [],
   "source": [
    "1+1"
   ]
  },
  {
   "cell_type": "markdown",
   "metadata": {},
   "source": [
    "allows you to write a function for any number of types `T`.  We've already seen quite a bit of this, and today we'll talk more about macros and expressions.\n",
    "\n",
    "## Reference\n",
    "\n",
    "Today we'll mostly cover material that can be found in the [metaprogramming](https://docs.julialang.org/en/stable/manual/metaprogramming/) section of Julia's documentation.  Many examples will be drawn from the documentation.\n",
    "\n",
    "# Expressions - How Text Becomes a Program\n",
    "\n",
    "Everything you put into a Jupyter notebook, a `.jl` file, or the Julia REPL starts as a string."
   ]
  },
  {
   "cell_type": "code",
   "execution_count": null,
   "metadata": {},
   "outputs": [],
   "source": [
    "prog = \"1 + 1\"\n",
    "typeof(prog)"
   ]
  },
  {
   "cell_type": "markdown",
   "metadata": {},
   "source": [
    "Julia then parses this string to determine what to do with the input"
   ]
  },
  {
   "cell_type": "code",
   "execution_count": null,
   "metadata": {},
   "outputs": [],
   "source": [
    "exp = Meta.parse(prog)"
   ]
  },
  {
   "cell_type": "code",
   "execution_count": null,
   "metadata": {},
   "outputs": [],
   "source": [
    "typeof(exp)"
   ]
  },
  {
   "cell_type": "markdown",
   "metadata": {},
   "source": [
    "You can think of expressions as \"quoting\" code, not evaluating it.  For example `1+1` evalueates to 2, but the expression `:(1+1)` is akin to the satement `'1+1' is an equation`, which doesn't refer to the result of the evaluation, but the statement itself"
   ]
  },
  {
   "cell_type": "code",
   "execution_count": null,
   "metadata": {},
   "outputs": [],
   "source": [
    "# expressions have a symbol that denotes the type of expression\n",
    "@show typeof(exp.head)\n",
    "exp.head"
   ]
  },
  {
   "cell_type": "code",
   "execution_count": null,
   "metadata": {},
   "outputs": [],
   "source": [
    "# expression arguments may be symbols, other expressions, or literal values\n",
    "exp.args"
   ]
  },
  {
   "cell_type": "markdown",
   "metadata": {},
   "source": [
    "This means that the program itself is stored in a data structure accessible through Julia!\n",
    "\n",
    "You can always run your program using `eval`"
   ]
  },
  {
   "cell_type": "code",
   "execution_count": null,
   "metadata": {},
   "outputs": [],
   "source": [
    "@show exp\n",
    "eval(exp)"
   ]
  },
  {
   "cell_type": "markdown",
   "metadata": {},
   "source": [
    "Some useful tools for working with expressions are `dump` and `Meta.show_sexpr`.  These are both ways of visualizing the [abstract syntax tree (AST)](https://en.wikibooks.org/wiki/Introducing_Julia/Metaprogramming#The_Abstract_Syntax_Tree) that is generated when code is parsed."
   ]
  },
  {
   "cell_type": "code",
   "execution_count": null,
   "metadata": {},
   "outputs": [],
   "source": [
    "# more detailed printout of expression\n",
    "dump(exp)"
   ]
  },
  {
   "cell_type": "code",
   "execution_count": null,
   "metadata": {},
   "outputs": [],
   "source": [
    "exp = Meta.parse(\"(1+1)/2\")"
   ]
  },
  {
   "cell_type": "code",
   "execution_count": null,
   "metadata": {},
   "outputs": [],
   "source": [
    "# s-expressions represent expression as tree\n",
    "Meta.show_sexpr(exp)"
   ]
  },
  {
   "cell_type": "code",
   "execution_count": null,
   "metadata": {},
   "outputs": [],
   "source": [
    "dump(exp)"
   ]
  },
  {
   "cell_type": "markdown",
   "metadata": {},
   "source": [
    "# Symbols, Quoting\n",
    "\n",
    "Symbols are denoted by the colon `:` symbol.  These are [interned strings](https://en.wikipedia.org/wiki/String_interning) which is used to build expressions.  "
   ]
  },
  {
   "cell_type": "code",
   "execution_count": null,
   "metadata": {},
   "outputs": [],
   "source": [
    "@show typeof(:hello)\n",
    "@show typeof(Symbol(\"hello\"))\n",
    "@show sym = Symbol(\"hello\", \"_world\", 10)\n",
    "@show typeof(sym)\n",
    ";"
   ]
  },
  {
   "cell_type": "markdown",
   "metadata": {},
   "source": [
    "A second role for the `:` character is for \"quoting\", which helps build expressions\n"
   ]
  },
  {
   "cell_type": "code",
   "execution_count": null,
   "metadata": {},
   "outputs": [],
   "source": [
    "exp = :(1 + 2 * 3)\n",
    "dump(exp)"
   ]
  },
  {
   "cell_type": "markdown",
   "metadata": {},
   "source": [
    "quoing can also be done using the `quote` keyword"
   ]
  },
  {
   "cell_type": "code",
   "execution_count": null,
   "metadata": {},
   "outputs": [],
   "source": [
    "exp = quote\n",
    "    x = 1\n",
    "    x + x\n",
    "end\n",
    "@show typeof(exp)\n",
    "@show exp\n",
    "eval(exp)"
   ]
  },
  {
   "cell_type": "code",
   "execution_count": null,
   "metadata": {},
   "outputs": [],
   "source": [
    "dump(exp)"
   ]
  },
  {
   "cell_type": "markdown",
   "metadata": {},
   "source": [
    "# Interpolation\n",
    "\n",
    "Just like you can interpolate in expressions by using `$`, just like you can in strings"
   ]
  },
  {
   "cell_type": "code",
   "execution_count": null,
   "metadata": {},
   "outputs": [],
   "source": [
    "x = 1\n",
    "\"x = $x\""
   ]
  },
  {
   "cell_type": "code",
   "execution_count": null,
   "metadata": {},
   "outputs": [],
   "source": [
    "a = 1\n",
    "exp = :($a + b)"
   ]
  },
  {
   "cell_type": "code",
   "execution_count": null,
   "metadata": {},
   "outputs": [],
   "source": [
    "# you can also interpolate expressions.\n",
    "exp1 = :(1+1)\n",
    "exp2 = :($exp1/2)"
   ]
  },
  {
   "cell_type": "markdown",
   "metadata": {},
   "source": [
    "# Exercise 1\n",
    "\n",
    "1. try putting a simple for-loop in a quote.  What does it look like? Try using `dump` and `Meta.show_sexpr`\n",
    "2. Create an expression for `1 + (2+3)` starting with the expression `:(2+3)`\n",
    "3. use quoting with `:` to examine the expression for the function `sum257{T}(a::T,b::T) = a+b`.  Try rewriting the function using the `function` keyword, and creating an expression using a `quote` block."
   ]
  },
  {
   "cell_type": "markdown",
   "metadata": {},
   "source": [
    "# Functions of Expressions\n",
    "\n",
    "Since expressions are a data type in Julia, you can create functions of expresssions"
   ]
  },
  {
   "cell_type": "code",
   "execution_count": null,
   "metadata": {
    "scrolled": true
   },
   "outputs": [],
   "source": [
    "# expression for binary operation\n",
    "function bin_exp(op, arg1, arg2)\n",
    "   return Expr(:call, op, arg1, arg2) \n",
    "end\n",
    "\n",
    "exp = bin_exp(:+, 1,2)\n",
    "@show exp\n",
    "@show eval(exp)\n",
    "\n",
    "exp = bin_exp(:*, 2, :(1+1))\n",
    "exp2 = bin_exp(:*, 2, bin_exp(:+,1,1))\n",
    "@show exp\n",
    "@show exp == exp2\n",
    "@show eval(exp)\n",
    ";"
   ]
  },
  {
   "cell_type": "code",
   "execution_count": null,
   "metadata": {},
   "outputs": [],
   "source": [
    ":(1 + 1)\n",
    "bin_exp(:+, 1, 1)"
   ]
  },
  {
   "cell_type": "markdown",
   "metadata": {},
   "source": [
    "# Macros\n",
    "\n",
    "Macros give you a way to generate code to be included in a program.  They are evaluated directly, and do not require a call to `eval()`.  They are created using the `macro` keyword."
   ]
  },
  {
   "cell_type": "code",
   "execution_count": null,
   "metadata": {},
   "outputs": [],
   "source": [
    "macro helloworld()\n",
    "    return :( println(\"Hello World!\") )\n",
    "end"
   ]
  },
  {
   "cell_type": "code",
   "execution_count": null,
   "metadata": {},
   "outputs": [],
   "source": [
    "@helloworld"
   ]
  },
  {
   "cell_type": "code",
   "execution_count": null,
   "metadata": {},
   "outputs": [],
   "source": [
    "# macros can take arguments\n",
    "macro hello(name)\n",
    "    return :(println(\"Hello \", $name))\n",
    "end"
   ]
  },
  {
   "cell_type": "code",
   "execution_count": null,
   "metadata": {},
   "outputs": [],
   "source": [
    "@hello \"CME 257\""
   ]
  },
  {
   "cell_type": "code",
   "execution_count": null,
   "metadata": {},
   "outputs": [],
   "source": [
    "# you can also call a macro with function-like syntax\n",
    "@hello(\"CME 257\")"
   ]
  },
  {
   "cell_type": "markdown",
   "metadata": {},
   "source": [
    "There are tools to help you build, understand, and debug macros - the function `macroexpand()` and the macro `@macroexpand`"
   ]
  },
  {
   "cell_type": "code",
   "execution_count": null,
   "metadata": {},
   "outputs": [],
   "source": [
    "macroexpand(Main, :(@hello(\"CME 257\")))"
   ]
  },
  {
   "cell_type": "code",
   "execution_count": null,
   "metadata": {},
   "outputs": [],
   "source": [
    "# the macro version is easier to call\n",
    "@macroexpand @hello \"CME 257\""
   ]
  },
  {
   "cell_type": "markdown",
   "metadata": {},
   "source": [
    "Macros are executed at parse time, not at run time (or compile time).  This means they don't add overhead to a function call (since they generate actual code).  However, they may add overhead to using a module, or including a file.  "
   ]
  },
  {
   "cell_type": "code",
   "execution_count": null,
   "metadata": {},
   "outputs": [],
   "source": [
    "macro twostep(arg)\n",
    "   println(\"I execute at parse time. The argument is: \", arg)\n",
    "   return :(println(\"I execute at runtime. The argument is: \", $arg))\n",
    "end\n",
    "\n",
    "ex = @macroexpand @twostep 1+1"
   ]
  },
  {
   "cell_type": "code",
   "execution_count": null,
   "metadata": {},
   "outputs": [],
   "source": [
    "eval(ex)"
   ]
  },
  {
   "cell_type": "markdown",
   "metadata": {},
   "source": [
    "## Examples\n",
    "\n",
    "We've already seen the `@assert` macro"
   ]
  },
  {
   "cell_type": "code",
   "execution_count": null,
   "metadata": {},
   "outputs": [],
   "source": [
    "# does nothing\n",
    "@assert 1==1\n",
    "# throws error\n",
    "@assert 1==2\n",
    ";"
   ]
  },
  {
   "cell_type": "markdown",
   "metadata": {},
   "source": [
    "The [following example](https://docs.julialang.org/en/v1/manual/metaprogramming/#Building-an-advanced-macro-1) is given as a way to implement the `@assert` macro"
   ]
  },
  {
   "cell_type": "code",
   "execution_count": null,
   "metadata": {},
   "outputs": [],
   "source": [
    "macro assert2(ex)\n",
    "    return :( $ex ? nothing : throw(AssertionError($(string(ex)))) ) #this is an inline if-else statement\n",
    "end\n",
    "# does nothing\n",
    "@assert2 1==1\n",
    "# does something\n",
    "@assert2 1==2\n",
    ";"
   ]
  },
  {
   "cell_type": "markdown",
   "metadata": {},
   "source": [
    "At runtime, the expression `ex` is spliced into the return statement in two places (`$ex`, `string(ex)`). The expression is evaluated, and depending on the result the macro either does nothing or throws an error."
   ]
  },
  {
   "cell_type": "markdown",
   "metadata": {},
   "source": [
    "if you do something more complicated in a macro, you may wish to use local variables to avoid creating new variables outside the macro.  Note you can use the `local` keyword in more general contexts."
   ]
  },
  {
   "cell_type": "code",
   "execution_count": null,
   "metadata": {},
   "outputs": [],
   "source": [
    "@time 1+1"
   ]
  },
  {
   "cell_type": "code",
   "execution_count": null,
   "metadata": {},
   "outputs": [],
   "source": [
    "@macroexpand @time 1+1"
   ]
  },
  {
   "cell_type": "code",
   "execution_count": null,
   "metadata": {},
   "outputs": [],
   "source": [
    "macro time2(ex)\n",
    "    return quote\n",
    "        local t0 = time()\n",
    "        local val = $ex\n",
    "        local t1 = time()\n",
    "        println(\"elapsed time: \", t1-t0, \" seconds\")\n",
    "        val\n",
    "    end\n",
    "end"
   ]
  },
  {
   "cell_type": "code",
   "execution_count": null,
   "metadata": {},
   "outputs": [],
   "source": [
    "a = 1\n",
    "b = 2\n",
    "@time2 a + b"
   ]
  },
  {
   "cell_type": "code",
   "execution_count": null,
   "metadata": {},
   "outputs": [],
   "source": [
    "t0 = 1\n",
    "t1 = 2\n",
    "#uh-oh!\n",
    "@time2 t0 + t0"
   ]
  },
  {
   "cell_type": "markdown",
   "metadata": {},
   "source": [
    "We see that even though we tried to avoid a name conflict, we still ran into trouble because we interpolated the expression in the macro definition.  We can avoid this by escaping the expression with `esc()`"
   ]
  },
  {
   "cell_type": "code",
   "execution_count": null,
   "metadata": {},
   "outputs": [],
   "source": [
    "macro time2(ex)\n",
    "    return quote\n",
    "        local t0 = time()\n",
    "        local val = $(esc(ex))\n",
    "        local t1 = time()\n",
    "        println(\"elapsed time: \", t1-t0, \" seconds\")\n",
    "        val\n",
    "    end\n",
    "end"
   ]
  },
  {
   "cell_type": "code",
   "execution_count": null,
   "metadata": {},
   "outputs": [],
   "source": [
    "t0 = 1\n",
    "t1 = 2\n",
    "@time2 t0+t0"
   ]
  },
  {
   "cell_type": "markdown",
   "metadata": {},
   "source": [
    "# Exercise 2\n",
    "\n",
    "1. Create a macro `@show2` that does the same thing as the `@show` macro\n",
    "2. compare expressions generated in `@assert` and `@assert2` with the same input. You'll likely want to use `@macroexpand` and `dump()`\n",
    "3. compare the expressions generated by `@show` and your `@show2` macro with the same input."
   ]
  },
  {
   "cell_type": "markdown",
   "metadata": {},
   "source": [
    "# Code Generation\n",
    "\n",
    "Metaprogramming can save you quite a bit of time and effort when it comes to writing repetitive code"
   ]
  },
  {
   "cell_type": "code",
   "execution_count": 1,
   "metadata": {},
   "outputs": [],
   "source": [
    "import Base: +, -, *, /\n",
    "struct cme257type\n",
    "    val::Float64\n",
    "end\n",
    "\n",
    "for op in (:+, :-, :*, :/)\n",
    "   eval(quote\n",
    "        ($op)(a::cme257type, b::cme257type) = cme257type($(op)(a.val, b.val))\n",
    "    end)\n",
    "end"
   ]
  },
  {
   "cell_type": "code",
   "execution_count": 2,
   "metadata": {},
   "outputs": [
    {
     "data": {
      "text/plain": [
       "+ (generic function with 162 methods)"
      ]
     },
     "execution_count": 2,
     "metadata": {},
     "output_type": "execute_result"
    }
   ],
   "source": [
    "+(a::cme257type, b::cme257type) = cme257type(+(a.val, b.val))"
   ]
  },
  {
   "cell_type": "code",
   "execution_count": 5,
   "metadata": {},
   "outputs": [
    {
     "name": "stdout",
     "output_type": "stream",
     "text": [
      "a * b = cme257type(2.0)\n",
      "a + b = cme257type(3.0)\n"
     ]
    },
    {
     "data": {
      "text/plain": [
       "cme257type(3.0)"
      ]
     },
     "execution_count": 5,
     "metadata": {},
     "output_type": "execute_result"
    }
   ],
   "source": [
    "a = cme257type(1)\n",
    "b = cme257type(2)\n",
    "@show a * b\n",
    "@show a+b"
   ]
  },
  {
   "cell_type": "markdown",
   "metadata": {},
   "source": [
    "there's a handy `@eval` macro that can be used to do the same thing"
   ]
  },
  {
   "cell_type": "code",
   "execution_count": 6,
   "metadata": {},
   "outputs": [],
   "source": [
    "# option 1\n",
    "for op in (:+, :-, :*, :/)\n",
    "   @eval begin\n",
    "        ($op)(a::cme257type, b::cme257type) = cme257type($(op)(a.val, b.val))\n",
    "    end\n",
    "end\n",
    "\n",
    "# option 2\n",
    "for op in (:+, :-, :*, :/)\n",
    "   @eval ($op)(a::cme257type, b::cme257type) = cme257type($(op)(a.val, b.val))\n",
    "end"
   ]
  },
  {
   "cell_type": "code",
   "execution_count": 7,
   "metadata": {},
   "outputs": [
    {
     "data": {
      "text/plain": [
       "cme257type(0.5)"
      ]
     },
     "execution_count": 7,
     "metadata": {},
     "output_type": "execute_result"
    }
   ],
   "source": [
    "a = cme257type(1.0)\n",
    "b = cme257type(2.0)\n",
    "a / b"
   ]
  },
  {
   "cell_type": "markdown",
   "metadata": {},
   "source": [
    "# Generated Functions\n",
    "\n",
    "Generated functions are a powerful way of creating functions, based on the types of the arguments.  Note that you have to be careful to avoid unintended side effects with them, so refer to the [documentation](https://docs.julialang.org/en/v1/manual/metaprogramming/#Generated-functions-1) if you indend to use them seriously, beyond this brief introduction."
   ]
  },
  {
   "cell_type": "code",
   "execution_count": 21,
   "metadata": {},
   "outputs": [
    {
     "data": {
      "text/plain": [
       "foo (generic function with 1 method)"
      ]
     },
     "execution_count": 21,
     "metadata": {},
     "output_type": "execute_result"
    }
   ],
   "source": [
    "@generated function foo(x)\n",
    "   Core.println(x)\n",
    "   return :(x * x)\n",
    "end"
   ]
  },
  {
   "cell_type": "code",
   "execution_count": 22,
   "metadata": {
    "scrolled": true
   },
   "outputs": [
    {
     "name": "stdout",
     "output_type": "stream",
     "text": [
      "Int64\n"
     ]
    }
   ],
   "source": [
    "x = foo(2);"
   ]
  },
  {
   "cell_type": "markdown",
   "metadata": {},
   "source": [
    "note that the generated function is generally only produced once. If you run this cell twice with the same type of input, you probably won't see the type output again.  However, there's no guarantee that this will happen, which is why the functions can't have any side effects "
   ]
  },
  {
   "cell_type": "code",
   "execution_count": 23,
   "metadata": {},
   "outputs": [
    {
     "data": {
      "text/plain": [
       "4"
      ]
     },
     "execution_count": 23,
     "metadata": {},
     "output_type": "execute_result"
    }
   ],
   "source": [
    "x"
   ]
  },
  {
   "cell_type": "markdown",
   "metadata": {},
   "source": [
    "For the next example, note that you can create a function with variable length arguments using `...`"
   ]
  },
  {
   "cell_type": "code",
   "execution_count": 29,
   "metadata": {},
   "outputs": [
    {
     "data": {
      "text/plain": [
       "test_fn (generic function with 1 method)"
      ]
     },
     "execution_count": 29,
     "metadata": {},
     "output_type": "execute_result"
    }
   ],
   "source": [
    "function test_fn(I::Int64...)\n",
    "    println(\"n inputs = \", length(I))\n",
    "    c = 0\n",
    "    for i = 1:length(I)\n",
    "       println(\"  $i: $(I[i])\") \n",
    "       c += I[i]\n",
    "    end\n",
    "    return c\n",
    "end"
   ]
  },
  {
   "cell_type": "code",
   "execution_count": 30,
   "metadata": {},
   "outputs": [
    {
     "name": "stdout",
     "output_type": "stream",
     "text": [
      "n inputs = 3\n",
      "  1: 1\n",
      "  2: 5\n",
      "  3: 3\n"
     ]
    },
    {
     "data": {
      "text/plain": [
       "9"
      ]
     },
     "execution_count": 30,
     "metadata": {},
     "output_type": "execute_result"
    }
   ],
   "source": [
    "test_fn(1, 5, 3)"
   ]
  },
  {
   "cell_type": "markdown",
   "metadata": {},
   "source": [
    "Now, for the example, which is described in [the metaprogramming documentaion](https://docs.julialang.org/en/v1/manual/metaprogramming).  Recall that in Julia, arrays are stored in column-major format.  We can change the indexing of an array to linear indexing with `LinearIndices()`."
   ]
  },
  {
   "cell_type": "code",
   "execution_count": 44,
   "metadata": {},
   "outputs": [
    {
     "name": "stdout",
     "output_type": "stream",
     "text": [
      "A[2] = 3\n",
      "A[2, 1] = 3\n",
      "b[3] = 3\n",
      "b[1, 2] = 3\n"
     ]
    }
   ],
   "source": [
    "using LinearAlgebra\n",
    "A = [1 2;3 4]\n",
    "# two ways of accessing an array: single index and multi-index\n",
    "@show A[2]\n",
    "@show A[2,1]\n",
    "# the following gives us the conversion from the multi-index to the single index\n",
    "b = LinearIndices(A)\n",
    "@show b[3];\n",
    "@show b[1,2];"
   ]
  },
  {
   "cell_type": "markdown",
   "metadata": {},
   "source": [
    "For a 2-dimensional array `A` with dimensions `(m,n)`, the formula for indices `A[i,j]` is `i + m*(j-1)`.  We'll see how this generalizes shortly.\n",
    "\n",
    "Now, the clever use of a generated function: we can write a single generated function that will produce the output of `sub2ind` that dispatches based on the number of dimensions."
   ]
  },
  {
   "cell_type": "code",
   "execution_count": 40,
   "metadata": {},
   "outputs": [
    {
     "data": {
      "text/plain": [
       "lin_ind (generic function with 1 method)"
      ]
     },
     "execution_count": 40,
     "metadata": {},
     "output_type": "execute_result"
    }
   ],
   "source": [
    "@generated function lin_ind(dims::NTuple{N}, I::Integer...) where N\n",
    "   length(I) == N || return :(error(\"partial indexing is unsupported\"))\n",
    "   ex = :(I[$N] - 1)\n",
    "   for i = (N - 1):-1:1\n",
    "       ex = :(I[$i] - 1 + dims[$i] * $ex)\n",
    "   end\n",
    "   return :($ex + 1)\n",
    "end"
   ]
  },
  {
   "cell_type": "code",
   "execution_count": 45,
   "metadata": {},
   "outputs": [
    {
     "data": {
      "text/plain": [
       "3"
      ]
     },
     "execution_count": 45,
     "metadata": {},
     "output_type": "execute_result"
    }
   ],
   "source": [
    "lin_ind((2,2), 1, 2)"
   ]
  },
  {
   "cell_type": "markdown",
   "metadata": {},
   "source": [
    "Note that we could do something similar with a non-generated function, but then we would evaluate the loop at run-time, instead of complie time.  Since there is some overhead associated with loops, for frequently called functions this can give performance benefits."
   ]
  },
  {
   "cell_type": "code",
   "execution_count": 46,
   "metadata": {},
   "outputs": [
    {
     "data": {
      "text/plain": [
       "sub2ind_loop (generic function with 1 method)"
      ]
     },
     "execution_count": 46,
     "metadata": {},
     "output_type": "execute_result"
    }
   ],
   "source": [
    "function sub2ind_loop(dims::NTuple{N}, I::Integer...) where N\n",
    "    length(I) == N || return error(\"partial indexing is unsupported\")\n",
    "    ind = I[N] - 1\n",
    "    for i = N-1:-1:1\n",
    "        ind = I[i]-1 + dims[i]*ind\n",
    "    end\n",
    "    return ind + 1\n",
    "end\n"
   ]
  },
  {
   "cell_type": "markdown",
   "metadata": {},
   "source": [
    "# Exercise 3\n",
    "\n",
    "Recall how we were able to call library functions e.g.  `ccall((:cos, \"libm\"), Float64, (Float64,), 1.0)`. Generate a set of wrappers for the following functions in libm - `cos, sin, acos, asin, tan, fabs, cosh` (just work with `Float64` inputs).  To avoid conflicts with existing funcitons, name the wrappers `cme257op` where `op` is the operation name.  Add some more functions with a single `Float64` input from [here](https://en.wikipedia.org/wiki/C_mathematical_functions)\n",
    "\n",
    "Hint: you can quote an expression `ex` using `Expr(:quote, ex)` - this is useful for the first argument of `ccall`\n",
    "\n",
    "If you have time, check out how TensorFlow.jl [wraps the TensorFlow library](https://github.com/malmaud/TensorFlow.jl/blob/master/src/ops/math.jl) using metaprogramming"
   ]
  },
  {
   "cell_type": "markdown",
   "metadata": {},
   "source": [
    "# Further Reading\n",
    "\n",
    "* [Wikibook on Metaprogramming in Julia](https://en.wikibooks.org/wiki/Introducing_Julia/Metaprogramming)\n",
    "* [On Machine Learning and Programming Languages](https://julialang.org/blog/2017/12/ml&pl)\n",
    "* Check out how TensorFlow.jl [wraps the TensorFlow library](https://github.com/malmaud/TensorFlow.jl/blob/master/src/ops/math.jl)"
   ]
  }
 ],
 "metadata": {
  "kernelspec": {
   "display_name": "Julia 1.2.0",
   "language": "julia",
   "name": "julia-1.2"
  },
  "language_info": {
   "file_extension": ".jl",
   "mimetype": "application/julia",
   "name": "julia",
   "version": "1.2.0"
  }
 },
 "nbformat": 4,
 "nbformat_minor": 2
}
